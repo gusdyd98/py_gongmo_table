{
 "cells": [
  {
   "cell_type": "markdown",
   "id": "8fed8c97",
   "metadata": {},
   "source": [
    "# 38커뮤니케이션에서 공모주 정보 가져오기 (공모수량 정보 추가)"
   ]
  },
  {
   "cell_type": "code",
   "execution_count": 1,
   "id": "ebf2ee02",
   "metadata": {},
   "outputs": [],
   "source": [
    "import pandas as pd\n",
    "import numpy as np\n",
    "import matplotlib.pyplot as plt\n",
    "import seaborn as sns\n",
    "import xlwings as xw\n",
    "from openpyxl import Workbook\n",
    "\n",
    "import matplotlib.pyplot as plt\n",
    "from matplotlib import font_manager, rc\n",
    "from matplotlib import style\n",
    "\n",
    "style.use('ggplot')\n",
    "\n",
    "%matplotlib inline\n",
    "font_name=font_manager.FontProperties(fname='c:/Windows/Fonts/malgun.ttf').get_name()\n",
    "rc('font', family=font_name)\n",
    "\n",
    "plt.rcParams['axes.unicode_minus']=False\n",
    "\n",
    "#pd.describe_option() \n",
    "pd.set_option('display.max_columns', None)\n",
    "pd.set_option('display.min_rows', 15)\n",
    "\n",
    "from IPython.core.interactiveshell import InteractiveShell\n",
    "InteractiveShell.ast_node_interactivity = \"all\"\n",
    "\n",
    "\n",
    "from pandas import json_normalize\n",
    "\n",
    "import requests"
   ]
  },
  {
   "cell_type": "code",
   "execution_count": 2,
   "id": "c6857a47",
   "metadata": {},
   "outputs": [],
   "source": [
    "from bs4 import BeautifulSoup"
   ]
  },
  {
   "cell_type": "code",
   "execution_count": 3,
   "id": "d6eebed3",
   "metadata": {},
   "outputs": [],
   "source": [
    "from html_table_parser import parser_functions as parser"
   ]
  },
  {
   "cell_type": "markdown",
   "id": "d40b6985",
   "metadata": {},
   "source": [
    "## html_table_parser 대신 read_html을 활용하기"
   ]
  },
  {
   "cell_type": "code",
   "execution_count": 4,
   "id": "da81e2f3",
   "metadata": {},
   "outputs": [],
   "source": [
    "from urllib.request import urlopen"
   ]
  },
  {
   "cell_type": "code",
   "execution_count": 5,
   "id": "3afe7e3b",
   "metadata": {
    "scrolled": true
   },
   "outputs": [],
   "source": [
    "import datetime\n",
    "import time"
   ]
  },
  {
   "cell_type": "code",
   "execution_count": 6,
   "id": "e27d3c0b",
   "metadata": {},
   "outputs": [],
   "source": [
    "def gongmo_stock_count(url_onepage):\n",
    "    tempdata=[]\n",
    "    page=1\n",
    "\n",
    "    #url=r'http://www.38.co.kr/html/fund/index.htm?o=k&page=1'\n",
    "\n",
    "    request=requests.get(url_onepage)\n",
    "\n",
    "    html=request.text\n",
    "\n",
    "    soup=BeautifulSoup(html, 'html.parser')\n",
    "    #soup\n",
    "\n",
    "    #for parse in soup.find_all('table', {'summary':'신규상장종목'}):\n",
    "    #    print(parse)\n",
    "\n",
    "    gongmo_count_data=[]\n",
    "    gongmolist_df=[]\n",
    "    gonmolist=soup.find('table', {'summary':'공모주 청약일정'}).find_all('a')\n",
    "    cnt=0;\n",
    "    for num, temp in enumerate(gonmolist):\n",
    "        #print(num, temp)\n",
    "        gm_name=temp.get_text()\n",
    "        gm_link=temp['href']\n",
    "        if(gm_name==\"\"):\n",
    "            continue\n",
    "        else:\n",
    "            gongmolist_df.append([gm_name, gm_link])\n",
    "\n",
    "\n",
    "        url_onestk_cnt=r'http://www.38.co.kr'+gongmolist_df[cnt][1]\n",
    "        request=requests.get(url_onestk_cnt)\n",
    "\n",
    "        html=request.text\n",
    "\n",
    "        soup=BeautifulSoup(html, 'html.parser')\n",
    "\n",
    "        temp=soup.find('table', {'summary':'공모청약일정'}).find('table')\n",
    "        #temp\n",
    "        temp2=parser.make2d(temp)\n",
    "        #temp2\n",
    "        tempdata=pd.DataFrame(temp2[2:], columns=temp2[0])\n",
    "        tempdata2=tempdata[3:6].iloc[:, 1:3]\n",
    "        tempdata2.columns=['배정그룹', '배정수']\n",
    "        tempdata2.reset_index(inplace=True)\n",
    "\n",
    "        tempdata2.배정수\n",
    "        aaa=tempdata2.배정수\n",
    "        result=[]\n",
    "\n",
    "        for data in aaa:\n",
    "            #print(data)\n",
    "            ttt=data.split('주')[0]\n",
    "            #print(ttt.find('~') )\n",
    "            if(ttt.find('~')>-1):\n",
    "                result.append(ttt.split('~')[1])\n",
    "            else:\n",
    "                result.append(ttt)\n",
    "\n",
    "        tempdata2.배정수=result\n",
    "        tempdata2.배정수\n",
    "        tempdata2.drop('index', axis=1, inplace=True)\n",
    "\n",
    "        #print(gongmolist_df[cnt][0])\n",
    "        #print(list(tempdata2.배정수))\n",
    "        #[gongmolist_df[cnt][0]]+list(tempdata2.배정수)\n",
    "        tmp1=[]\n",
    "        if (cnt==0):\n",
    "            gongmo_count_data=[[gongmolist_df[cnt][0]]+list(tempdata2.배정수)]\n",
    "        else:\n",
    "            tmp1=[gongmolist_df[cnt][0]]+list(tempdata2.배정수)\n",
    "            gongmo_count_data.append(tmp1)\n",
    "\n",
    "        cnt+=1\n",
    "        #print(gongmo_count_data)\n",
    "\n",
    "    gongmo_count_data_df=pd.DataFrame(gongmo_count_data)\n",
    "    gongmo_count_data_df.columns=['종목명', '우리사주', '기관투자자', '일반청약자']\n",
    "    #print(gongmo_count_data_df)\n",
    "    \n",
    "    return pd.DataFrame(gongmo_count_data_df)"
   ]
  },
  {
   "cell_type": "code",
   "execution_count": 7,
   "id": "ce500f19",
   "metadata": {},
   "outputs": [],
   "source": [
    "def get_gonmo_data_fr_38communication(dataname):\n",
    "    tempdata=[]\n",
    "    gongmo_stock_count_df=[]\n",
    "    all_data=[]\n",
    "    page=1\n",
    "\n",
    "    while(1):\n",
    "        #print(\"page : {0}\" .format(page))\n",
    "        exit_flag=0\n",
    "        #type => '전체종목', '수요예측일정', '수요예측결과', '공모청약일정', '신규상장종목'\n",
    "        datatype={'전체종목':['전체종목','http://www.38.co.kr/html/ipo/ipo.htm?o=&key=&' ],\n",
    "                  '수요예측일정':['수요예측일정','http://www.38.co.kr/html/fund/index.htm?o=r&'],\n",
    "                  '수요예측결과':['수요예측결과','http://www.38.co.kr/html/fund/index.htm?o=r1&'],\n",
    "                  '공모청약일정':['공모주 청약일정','http://www.38.co.kr/html/fund/index.htm?o=k&'],\n",
    "                  '신규상장':['신규상장종목', 'http://www.38.co.kr/html/fund/index.htm?o=nw&'] }\n",
    "       \n",
    "        #url = r'http://www.38.co.kr/html/fund/index.htm?o=nw&'\n",
    "        url=datatype[dataname][1]\n",
    "        #print(datatype[dataname][1])\n",
    "        url_page=datatype[dataname][1]+'page='+str(page)\n",
    "        #print(url_page)\n",
    "        request=requests.get(url, {'page': str(page)})\n",
    "\n",
    "        html=request.text\n",
    "\n",
    "        soup=BeautifulSoup(html, 'html.parser')\n",
    "        #soup\n",
    "\n",
    "        #for parse in soup.find_all('table', {'summary':'신규상장종목'}):\n",
    "        #    print(parse)\n",
    "\n",
    "\n",
    "        #print(datatype[dataname][0])\n",
    "        \n",
    "        if(datatype[dataname][0]=='전체종목'):\n",
    "            #print(1)\n",
    "            temp=soup.find_all('table',{'border':\"0\", 'cellpadding':\"4\", 'cellspacing':\"0\",'summary':\"\", 'width':'100%'})\n",
    "        else:\n",
    "            #print(2)\n",
    "            temp=soup.find_all('table', {'summary':datatype[dataname][0]})\n",
    "\n",
    "\n",
    "        temp2=parser.make2d(temp[0])\n",
    "        #print(temp2)\n",
    "\n",
    "        tempdata=pd.DataFrame(temp2[2:], columns=temp2[0])\n",
    "    \n",
    "        tempdata.rename(columns={'기업명':'종목명', \n",
    "                                 '희망공모가(원)':'희망공모가',\n",
    "                                 '공모가(원)':'확정공모가', \n",
    "                                 '공모희망가(원)':'희망공모가',\n",
    "                                 '공모금액(백만원)':'공모금액(백만)'}, inplace=True)\n",
    "        tempdata\n",
    "\n",
    "        if(len(tempdata)==0 or ( (len(tempdata)==1) and (len(tempdata['종목명'][0])==0) ) ):\n",
    "            exit_flag=1\n",
    "            #print('break.....')\n",
    "            break\n",
    "\n",
    "        if (page==1):\n",
    "            all_data=tempdata\n",
    "        else:\n",
    "            all_data=pd.concat([all_data, tempdata], ignore_index=True)\n",
    "\n",
    "        #print(\"no_break\")        \n",
    "        if(datatype[dataname][0]=='공모주 청약일정'):\n",
    "            #print(1)\n",
    "            if(page==1):\n",
    "                gongmo_stock_count_df=gongmo_stock_count(url_page)\n",
    "            else:\n",
    "                gongmo_stock_count_tmp=gongmo_stock_count(url_page)\n",
    "                gongmo_stock_count_df=pd.concat([gongmo_stock_count_df,gongmo_stock_count_tmp], ignore_index=True)\n",
    "            \n",
    "            gongmo_stock_count_df=gongmo_stock_count_df.drop_duplicates()\n",
    "        else:\n",
    "            #print(2)\n",
    "            pass\n",
    "        \n",
    "        page+=1\n",
    "                \n",
    "        if(datatype[dataname][0]=='전체종목'):\n",
    "            #print(1)\n",
    "            all_data=all_data.drop('주간사', axis=1)\n",
    "        else:\n",
    "            pass\n",
    "        \n",
    "        all_data=all_data.drop_duplicates()\n",
    "        \n",
    "    #print('return before.....')\n",
    "    #print(all_data)\n",
    "    #print(gongmo_stock_count_df)\n",
    "    if( (datatype[dataname][0]=='공모주 청약일정') ): # & (exit_flag==1) ):  \n",
    "        #print('return before2.....')\n",
    "        return     all_data, gongmo_stock_count_df\n",
    "    else:\n",
    "        return     all_data"
   ]
  },
  {
   "cell_type": "code",
   "execution_count": 12,
   "id": "460d5544",
   "metadata": {},
   "outputs": [
    {
     "name": "stdout",
     "output_type": "stream",
     "text": [
      "Wall time: 4min 58s\n"
     ]
    }
   ],
   "source": [
    "%%time\n",
    "\n",
    "all_ipo=get_gonmo_data_fr_38communication('전체종목')\n",
    "all_suyo=get_gonmo_data_fr_38communication('수요예측일정')\n",
    "all_suyo_rslt=get_gonmo_data_fr_38communication('수요예측결과')\n",
    "all_gongmo, all_stk_count=get_gonmo_data_fr_38communication('공모청약일정')\n",
    "all_newstk=get_gonmo_data_fr_38communication('신규상장')"
   ]
  },
  {
   "cell_type": "code",
   "execution_count": null,
   "id": "26a2f890",
   "metadata": {},
   "outputs": [],
   "source": [
    "%%time\n",
    "\n",
    "all_1=pd.merge(all_ipo, all_suyo, how='left',on=None)\n",
    "all_2=pd.merge(all_1, all_suyo_rslt, how='left', on=None)\n",
    "all_3=pd.merge(all_2, all_gongmo, how='left', on=None)\n",
    "all_4=pd.merge(all_3, all_stk_count, how='left', on=None)\n",
    "all_5=pd.merge(all_4, all_newstk, how='left', on=['종목명','확정공모가'])\n",
    "all_gongmo_alldata=all_5\n",
    "all_gongmo_alldata.drop(['예측일','분석'], axis=1, inplace=True)\n",
    "\n",
    "#data 타입 수정\n",
    "all_gongmo_alldata['청구일']=pd.to_datetime(all_gongmo_alldata['청구일'])\n",
    "all_gongmo_alldata['신규상장일']=pd.to_datetime(all_gongmo_alldata['신규상장일'])\n",
    "all_gongmo_alldata['확정공모가']=pd.to_numeric(all_gongmo_alldata['확정공모가'].apply(lambda x: str(x).replace(',', '')), errors='coerce')\n",
    "all_gongmo_alldata['시초가(원)']=pd.to_numeric(all_gongmo_alldata['시초가(원)'].apply(lambda x: str(x).replace(',', '')), errors='coerce')\n",
    "all_gongmo_alldata['시초/공모(%)']=pd.to_numeric(all_gongmo_alldata['시초/공모(%)'].replace('(^%)|(nan)|(%)', '', regex=True), errors='coerce')\n",
    "all_gongmo_alldata['첫날종가(원)']=pd.to_numeric(all_gongmo_alldata['첫날종가(원)'].apply(lambda x: str(x).replace(',', '')), errors='coerce')\n",
    "all_gongmo_alldata['공모금액(백만)']=pd.to_numeric(all_gongmo_alldata['공모금액(백만)'].apply(lambda x: str(x).replace(',', '')), errors='coerce')\n",
    "all_gongmo_alldata['자본금(백만)']=pd.to_numeric(all_gongmo_alldata['자본금(백만)'].apply(lambda x: str(x).replace(',', '')), errors='coerce')\n",
    "all_gongmo_alldata['매출액(백만)']=pd.to_numeric(all_gongmo_alldata['매출액(백만)'].apply(lambda x: str(x).replace(',', '')), errors='coerce')\n",
    "all_gongmo_alldata['당기순이익(백만)']=pd.to_numeric(all_gongmo_alldata['당기순이익(백만)'].apply(lambda x: str(x).replace(',', '')), errors='coerce')\n",
    "all_gongmo_alldata['현재가(원)']=pd.to_numeric(all_gongmo_alldata['현재가(원)'].apply(lambda x: str(x).replace(',', '')), errors='coerce')\n",
    "all_gongmo_alldata['전일비(%)']=pd.to_numeric(all_gongmo_alldata['전일비(%)'].replace('(^%)|(nan)|(%)', '', regex=True), errors='coerce')\n",
    "all_gongmo_alldata['공모가대비등락률(%)']=pd.to_numeric(all_gongmo_alldata['공모가대비등락률(%)'].replace('(^%)|(nan)|(%)', '', regex=True), errors='coerce')\n",
    "all_gongmo_alldata['의무보유확약']=pd.to_numeric(all_gongmo_alldata['의무보유확약'].replace('(^%)|(nan)|(%)', '', regex=True), errors='coerce')\n",
    "all_gongmo_alldata['우리사주']=pd.to_numeric(all_gongmo_alldata['우리사주'].apply(lambda x: str(x).replace(',', '')), errors='coerce')\n",
    "all_gongmo_alldata['기관투자자']=pd.to_numeric(all_gongmo_alldata['기관투자자'].apply(lambda x: str(x).replace(',', '')), errors='coerce')\n",
    "all_gongmo_alldata['일반청약자']=pd.to_numeric(all_gongmo_alldata['일반청약자'].apply(lambda x: str(x).replace(',', '')), errors='coerce')\n",
    "\n",
    "all_gongmo_alldata['기관경쟁률']=all_gongmo_alldata['기관경쟁률'].apply(lambda x: str(x).replace(',', ''))\n",
    "all_gongmo_alldata['청약경쟁률']=all_gongmo_alldata['청약경쟁률'].apply(lambda x: str(x).replace(',', ''))\n",
    "all_gongmo_alldata['기관경쟁률']=pd.to_numeric(all_gongmo_alldata['기관경쟁률'].apply(lambda x: str(x).replace(':1', '')), errors='coerce')\n",
    "all_gongmo_alldata['청약경쟁률']=pd.to_numeric(all_gongmo_alldata['청약경쟁률'].apply(lambda x: str(x).replace(':1', '')), errors='coerce')\n",
    "\n",
    "\n",
    "print(all_gongmo_alldata.columns)\n",
    "colname=['청구일','수요예측일','공모주일정','신규상장일', '종목명','주업종', '주간사','희망공모가','확정공모가','기관경쟁률', '의무보유확약', \n",
    "       '청약경쟁률', '시초가(원)','시초/공모(%)',  '첫날종가(원)', '상태', \n",
    "          '우리사주', '기관투자자', '일반청약자','공모금액(백만)','당기순이익(백만)', '자본금(백만)', \n",
    "         '매출액(백만)','현재가(원)', '전일비(%)', '공모가대비등락률(%)', '']\n",
    "\n",
    "\n",
    "#data오류 수정\n",
    "#all_gongmo_alldata_cp=all_gongmo_alldata.copy()\n",
    "all_gongmo_alldata[all_gongmo_alldata['종목명']=='지아이텍'].index\n",
    "all_gongmo_alldata.loc[all_gongmo_alldata[all_gongmo_alldata['종목명']=='지아이텍'].index,'기관투자자']=16200000\n",
    "all_gongmo_alldata[all_gongmo_alldata['종목명']=='지아이텍']['기관투자자']"
   ]
  },
  {
   "cell_type": "code",
   "execution_count": 16,
   "id": "725d6e62",
   "metadata": {},
   "outputs": [
    {
     "name": "stderr",
     "output_type": "stream",
     "text": [
      "C:\\ProgramData\\Anaconda3\\lib\\site-packages\\xlsxwriter\\workbook.py:339: UserWarning: Calling close() on already closed file.\n",
      "  warn(\"Calling close() on already closed file.\")\n"
     ]
    }
   ],
   "source": [
    "####writer = pd.ExcelWriter(\"C:/Users/gusdyd98gray/OneDrive/현용문서/00.공모주/gongmo_data.xlsx\", mode='w',engine='xlsxwriter')\n",
    "writer = pd.ExcelWriter(\"C:/Users/gusdy/OneDrive/현용문서/00.공모주/gongmo_data.xlsx\", mode='w',engine='xlsxwriter')\n",
    "\n",
    "sheetname=str('rawdata_'+datetime.date.today().strftime('%Y_%m_%d'))\n",
    "all_gongmo_alldata[colname].sort_values(['공모주일정'], axis=0, ascending=False).to_excel(writer, sheet_name = sheetname, encoding='utf-8', index=False)\n",
    "\n",
    "writer.save()\n",
    "writer.close()\n",
    "writer.handles = None"
   ]
  },
  {
   "cell_type": "markdown",
   "id": "571f7c2e",
   "metadata": {},
   "source": [
    "----"
   ]
  },
  {
   "cell_type": "markdown",
   "id": "4f875031",
   "metadata": {},
   "source": [
    "## PROGRAM END"
   ]
  },
  {
   "cell_type": "markdown",
   "id": "7d43c802",
   "metadata": {},
   "source": [
    "----"
   ]
  },
  {
   "cell_type": "markdown",
   "id": "82a689f0",
   "metadata": {},
   "source": [
    "## PROGRAM END"
   ]
  },
  {
   "cell_type": "code",
   "execution_count": null,
   "id": "7ba38c5d",
   "metadata": {},
   "outputs": [],
   "source": [
    "all_4[all_4['종목명']=='대성하이텍']"
   ]
  },
  {
   "cell_type": "code",
   "execution_count": null,
   "id": "2f5def79",
   "metadata": {},
   "outputs": [],
   "source": [
    "all_5[all_5['종목명']=='대성하이텍']"
   ]
  },
  {
   "cell_type": "code",
   "execution_count": null,
   "id": "3aa62cda",
   "metadata": {},
   "outputs": [],
   "source": [
    "all_6=pd.merge(all_4, all_newstk, how='left', on=['종목명','확정공모가'])\n",
    "all_gongmo_alldata[all_gongmo_alldata['종목명']=='알피바이오']\n"
   ]
  },
  {
   "cell_type": "code",
   "execution_count": null,
   "id": "188b4d20",
   "metadata": {},
   "outputs": [],
   "source": [
    "all_gongmo_alldata"
   ]
  }
 ],
 "metadata": {
  "kernelspec": {
   "display_name": "Python 3 (ipykernel)",
   "language": "python",
   "name": "python3"
  },
  "language_info": {
   "codemirror_mode": {
    "name": "ipython",
    "version": 3
   },
   "file_extension": ".py",
   "mimetype": "text/x-python",
   "name": "python",
   "nbconvert_exporter": "python",
   "pygments_lexer": "ipython3",
   "version": "3.9.13"
  }
 },
 "nbformat": 4,
 "nbformat_minor": 5
}
